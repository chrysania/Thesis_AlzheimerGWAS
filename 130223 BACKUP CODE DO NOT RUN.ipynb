{
 "cells": [
  {
   "cell_type": "markdown",
   "id": "461fb5e7",
   "metadata": {},
   "source": [
    "# Alzheimer GWAS Thesis Project - Chrysania Lim i3L"
   ]
  },
  {
   "cell_type": "markdown",
   "id": "eb6afd68",
   "metadata": {},
   "source": [
    "this notebook contains the backup codes for all hail and variantspark operations, including:\n",
    "- data set up: *completed*\n",
    "- logistic regression (diagnosis): *completed*\n",
    "- random forest (diagnosis): *in progress*\n",
    "- linear regression (APOE, age): *completed*\n",
    "\n",
    "need to add code to check for space complexity and time efficiency\n",
    "\n",
    "**DO NOT RUN ANYTHING ON THIS NOTEBOOK**\n",
    "running any cell could make the notebook unsavable, idk how, idk why, idk which code specifically because it seems like its random every time.\n",
    "\n",
    "~~i swear hail is cursed~~ "
   ]
  },
  {
   "cell_type": "markdown",
   "id": "21aa3ec5",
   "metadata": {},
   "source": [
    "## Data set up"
   ]
  },
  {
   "cell_type": "code",
   "execution_count": null,
   "id": "47a46381",
   "metadata": {},
   "outputs": [],
   "source": [
    "import hail as hl\n",
    "import varspark.hail as vshl\n",
    "vshl.init()"
   ]
  },
  {
   "cell_type": "code",
   "execution_count": null,
   "id": "b39c3b25",
   "metadata": {},
   "outputs": [],
   "source": [
    "from hail.plot import show\n",
    "from pprint import pprint\n",
    "# hl.plot.output_notebook()"
   ]
  },
  {
   "cell_type": "code",
   "execution_count": null,
   "id": "aef2c151",
   "metadata": {},
   "outputs": [],
   "source": [
    "# vcf file was converted from plink\n",
    "data = hl.import_vcf('alzheimer_vcf_2.vcf', contig_recoding={'23': 'X', '24' : 'Y', '25': 'MT'})"
   ]
  },
  {
   "cell_type": "code",
   "execution_count": null,
   "id": "21298d63",
   "metadata": {},
   "outputs": [],
   "source": [
    "data.describe()"
   ]
  },
  {
   "cell_type": "code",
   "execution_count": null,
   "id": "456fac55",
   "metadata": {},
   "outputs": [],
   "source": [
    "# label & data format covariate file\n",
    "labels = hl.import_table('covariates_hail3.csv', delimiter=';',\n",
    "                        types={'FID_IID':'str', 'FID':'str', 'IID':'str', 'Diagnosis':'float64', 'Age':'float64', 'APOE':'float64', 'Region':'float64', 'PMI':'float64', 'Site':'float64', 'HybridizationDate':'float64'},\n",
    "                        key='FID_IID')"
   ]
  },
  {
   "cell_type": "code",
   "execution_count": null,
   "id": "d45a3dde",
   "metadata": {},
   "outputs": [],
   "source": [
    "labels.describe()"
   ]
  },
  {
   "cell_type": "code",
   "execution_count": null,
   "id": "49c7692d",
   "metadata": {},
   "outputs": [],
   "source": [
    "mt = data.annotate_cols(labels = labels[data.s])\n",
    "mt.describe()"
   ]
  },
  {
   "cell_type": "code",
   "execution_count": null,
   "id": "7297fab2",
   "metadata": {},
   "outputs": [],
   "source": [
    "# check if data is complete\n",
    "mt = mt.annotate_cols(\n",
    "    can_be_used_for_regression = (hl.is_defined(mt.labels.Diagnosis) &\n",
    "                                  hl.is_defined(mt.labels.Age) &\n",
    "                                  hl.is_defined(mt.labels.APOE) &\n",
    "                                  hl.is_defined(mt.labels.Region) &\n",
    "                                  hl.is_defined(mt.labels.PMI) &\n",
    "                                  hl.is_defined(mt.labels.Site) &\n",
    "                                  hl.is_defined(mt.labels.HybridizationDate)))\n",
    "mt.can_be_used_for_regression.show() # WARNING! running this will make notebook unsavable"
   ]
  },
  {
   "cell_type": "code",
   "execution_count": null,
   "id": "4caed860",
   "metadata": {},
   "outputs": [],
   "source": [
    "# check number of variants and samples\n",
    "mt.count()\n",
    "\n",
    "# note: removed 778 SNPs in chr 3,4,19,MT due to 'not within the range of GRCh37'\n",
    "# note: all of chrMT SNPs are removed"
   ]
  },
  {
   "cell_type": "code",
   "execution_count": null,
   "id": "c5e0022f",
   "metadata": {},
   "outputs": [],
   "source": [
    "# check vcf file\n",
    "mt.show(n_cols=3)"
   ]
  },
  {
   "cell_type": "markdown",
   "id": "8d6f5899",
   "metadata": {},
   "source": [
    "## Logistic Regression - Hail"
   ]
  },
  {
   "cell_type": "markdown",
   "id": "2ff2e714",
   "metadata": {},
   "source": [
    "Logistic regression based on Diagnosis (case/control)"
   ]
  },
  {
   "cell_type": "code",
   "execution_count": null,
   "id": "fc42ca91",
   "metadata": {},
   "outputs": [],
   "source": [
    "# logistic regression: Diagnosis\n",
    "gwas_logreg_diagnosis = hl.logistic_regression_rows(test='score',\n",
    "                                y=mt.labels.Diagnosis,\n",
    "                                 x=mt.GT.n_alt_alleles(),\n",
    "                                 covariates=[1.0, mt.labels.Age, mt.labels.APOE],\n",
    "                                 pass_through=[mt.rsid])"
   ]
  },
  {
   "cell_type": "code",
   "execution_count": null,
   "id": "0aa3234f",
   "metadata": {},
   "outputs": [],
   "source": [
    "manhattan_logreg_diagnosis = hl.plot.manhattan(gwas_logreg_diagnosis.p_value, hover_fields=dict(rs=gwas_logreg_diagnosis.rsid))\n",
    "show(manhattan_logreg_diagnosis)"
   ]
  },
  {
   "cell_type": "code",
   "execution_count": null,
   "id": "e61d3ea0",
   "metadata": {},
   "outputs": [],
   "source": [
    "hl.plot.output_notebook() # WARNING! running this will make notebook unsavable\n",
    "\n",
    "p = hl.plot.manhattan(gwas_logreg_diagnosis.p_value, hover_fields=dict(rs=gwas_logreg_diagnosis.rsid))\n",
    "show(p)"
   ]
  },
  {
   "cell_type": "markdown",
   "id": "5ebd9bbd",
   "metadata": {},
   "source": [
    "## Random Forest - VariantSpark"
   ]
  },
  {
   "cell_type": "code",
   "execution_count": null,
   "id": "e74e4a6b",
   "metadata": {},
   "outputs": [],
   "source": [
    "rf_model = vshl.random_forest_model(y=mt.labels.Diagnosis,\n",
    "                    x=mt.GT.n_alt_alleles(), \n",
    "                    covariates={'Age':mt.labels.Age, 'APOE':mt.labels.APOE})\n",
    "rf_model.fit_trees(500, 100)"
   ]
  },
  {
   "cell_type": "code",
   "execution_count": null,
   "id": "23c9df81",
   "metadata": {},
   "outputs": [],
   "source": [
    "# Capture variant importances\n",
    "print(rf_model.oob_error())\n",
    "impTable = rf_model.variable_importance()\n",
    "impTable.show(3)"
   ]
  },
  {
   "cell_type": "code",
   "execution_count": null,
   "id": "d1e84f0a",
   "metadata": {},
   "outputs": [],
   "source": [
    "# Show the covariates importances\n",
    "covImpTable = rf_model.covariate_importance()\n",
    "covImpTable.show(4)"
   ]
  },
  {
   "cell_type": "code",
   "execution_count": null,
   "id": "45073607",
   "metadata": {},
   "outputs": [],
   "source": [
    "# Join hail and VariantSpark results (this is only needed here to get the RSID's)\n",
    "gwas_with_imp = gwas.join(impTable)"
   ]
  },
  {
   "cell_type": "code",
   "execution_count": null,
   "id": "58c38ce9",
   "metadata": {},
   "outputs": [],
   "source": [
    "import varspark.hail.plot as vshlplt\n",
    "\n",
    "p = vshlplt.manhattan_imp(gwas_with_imp.importance, \n",
    "                            hover_fields=dict(ri=gwas_with_imp.rsid),\n",
    "                            significance_line = None)\n",
    "show(p)"
   ]
  },
  {
   "cell_type": "code",
   "execution_count": null,
   "id": "4abd3b2d",
   "metadata": {},
   "outputs": [],
   "source": [
    "# Compare logistc regression values vs. rf importance\n",
    "p = hl.plot.scatter(x=-hl.log10(gwas_with_imp.p_value),\n",
    "                    y=gwas_with_imp.importance, \n",
    "                    xlabel = '-log10(p-value)',\n",
    "                    ylabel = 'gini importance',\n",
    "                    hover_fields=dict(rs=gwas_with_imp.rsid, loc=gwas_with_imp.locus))\n",
    "show(p)"
   ]
  },
  {
   "cell_type": "markdown",
   "id": "76b0cbc5",
   "metadata": {},
   "source": [
    "## Linear Regression - Hail"
   ]
  },
  {
   "cell_type": "markdown",
   "id": "62242840",
   "metadata": {},
   "source": [
    "Linear regression based on APOE (1/2)"
   ]
  },
  {
   "cell_type": "code",
   "execution_count": null,
   "id": "0efac721",
   "metadata": {},
   "outputs": [],
   "source": [
    "# Linear regression: APOE\n",
    "gwas_linreg_APOE = hl.linear_regression_rows(y=mt.labels.APOE,\n",
    "                                 x=mt.GT.n_alt_alleles(),\n",
    "                                 covariates=[1.0, mt.labels.Diagnosis, mt.labels.Age],\n",
    "                                 pass_through=[mt.rsid])"
   ]
  },
  {
   "cell_type": "code",
   "execution_count": null,
   "id": "042eec1b",
   "metadata": {},
   "outputs": [],
   "source": [
    "gwas_linreg_APOE.show()"
   ]
  },
  {
   "cell_type": "code",
   "execution_count": null,
   "id": "2f60a244",
   "metadata": {},
   "outputs": [],
   "source": [
    "linreg_APOE_plot = hl.plot.manhattan(gwas_linreg_APOE.p_value, hover_fields=dict(rs=gwas_linreg_APOE.rsid))\n",
    "show(linreg_APOE_plot)"
   ]
  },
  {
   "cell_type": "markdown",
   "id": "07290d21",
   "metadata": {},
   "source": [
    "Linear regression based on Age (2/2)"
   ]
  },
  {
   "cell_type": "code",
   "execution_count": null,
   "id": "3da8606a",
   "metadata": {},
   "outputs": [],
   "source": [
    "# Linear regression: Age\n",
    "gwas_linreg_Age = hl.linear_regression_rows(y=mt.labels.Age,\n",
    "                                 x=mt.GT.n_alt_alleles(),\n",
    "                                 covariates=[1.0, mt.labels.Diagnosis, mt.labels.APOE],\n",
    "                                 pass_through=[mt.rsid])"
   ]
  },
  {
   "cell_type": "code",
   "execution_count": null,
   "id": "86a98929",
   "metadata": {},
   "outputs": [],
   "source": [
    "gwas_linreg_Age.show()"
   ]
  },
  {
   "cell_type": "code",
   "execution_count": null,
   "id": "565344ee",
   "metadata": {},
   "outputs": [],
   "source": [
    "linreg_Age_plot = hl.plot.manhattan(gwas_linreg_Age.p_value, hover_fields=dict(rs=gwas_linreg_Age.rsid))\n",
    "show(linreg_Age_plot)"
   ]
  },
  {
   "cell_type": "markdown",
   "id": "3f618de1",
   "metadata": {},
   "source": [
    "--- End of jupyter notebook ---"
   ]
  }
 ],
 "metadata": {
  "kernelspec": {
   "display_name": "Python [conda env:.conda-py37]",
   "language": "python",
   "name": "conda-env-.conda-py37-py"
  },
  "language_info": {
   "codemirror_mode": {
    "name": "ipython",
    "version": 3
   },
   "file_extension": ".py",
   "mimetype": "text/x-python",
   "name": "python",
   "nbconvert_exporter": "python",
   "pygments_lexer": "ipython3",
   "version": "3.7.12"
  }
 },
 "nbformat": 4,
 "nbformat_minor": 5
}
